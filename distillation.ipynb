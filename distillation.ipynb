{
 "cells": [
  {
   "cell_type": "code",
   "execution_count": null,
   "id": "354c39ad-d565-434b-b835-710eddda3a4b",
   "metadata": {},
   "outputs": [],
   "source": [
    "!python scripts/binarized_data.py \\\n",
    "  --file_path \"$DUMP_FILE\" \\\n",
    "  --tokenizer_type roberta \\\n",
    "  --tokenizer_name ruRoberta-large \\\n",
    "  --dump_file \"$DATASTORE\""
   ]
  },
  {
   "cell_type": "code",
   "execution_count": null,
   "id": "6dda3eeb",
   "metadata": {},
   "outputs": [],
   "source": [
    "!python scripts/token_counts.py \\\n",
    "  --data_file \"$ROBERTA_PICKLE\" \\\n",
    "  --token_counts_dump \"$ROBERTA_TOKENS\" \\\n",
    "  --vocab_size 50265\n"
   ]
  },
  {
   "cell_type": "code",
   "execution_count": null,
   "id": "e37b1cfe",
   "metadata": {},
   "outputs": [],
   "source": [
    "!python scripts/extract.py \\\n",
    "  --model_type roberta \\\n",
    "  --model_name  \"$CHECKPOINT\" \\\n",
    "  --dump_checkpoint \"$STUDENT_INIT\" \\\n",
    "  --vocab_transform"
   ]
  },
  {
   "cell_type": "code",
   "execution_count": null,
   "id": "5b0610e8",
   "metadata": {},
   "outputs": [],
   "source": [
    "!python train.py \\\n",
    "  --dump_path \"$DUMP_PATH\" \\\n",
    "  --data_file \"$DATA_PICKLE\" \\\n",
    "  --student_config \"$STUDENT_CONFIG\" \\\n",
    "  --student_pretrained_weights \"$STUDENT_INIT\" \\\n",
    "  --teacher_name \"$CHECKPOINT\" \\\n",
    "  --temperature 1 \\\n",
    "  --alpha_ce 5.0 \\\n",
    "  --alpha_mse 1.0 \\\n",
    "  --alpha_cos 1.0 \\\n",
    "  --alpha_mlm 2.0 \\\n",
    "  --alpha_clm 0.0 \\\n",
    "  --mlm \\\n",
    "  --freeze_pos_embs \\\n",
    "  --token_counts \"$TOKEN_COUNTS\" \\\n",
    "  --group_by_size \\\n",
    "  --force \\\n",
    "  --batch_size=16 \\\n",
    "  --gradient_accumulation_steps=16 \\\n",
    "  --n_epoch=2"
   ]
  }
 ],
 "metadata": {
  "kernelspec": {
   "display_name": "Python 3",
   "language": "python",
   "name": "python3"
  },
  "language_info": {
   "codemirror_mode": {
    "name": "ipython",
    "version": 3
   },
   "file_extension": ".py",
   "mimetype": "text/x-python",
   "name": "python",
   "nbconvert_exporter": "python",
   "pygments_lexer": "ipython3",
   "version": "3.8.8"
  }
 },
 "nbformat": 4,
 "nbformat_minor": 5
}
