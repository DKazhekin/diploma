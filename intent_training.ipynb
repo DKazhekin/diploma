{
 "cells": [
  {
   "cell_type": "markdown",
   "metadata": {},
   "source": [
    "# Дообучение предтренированной MLM модели"
   ]
  },
  {
   "cell_type": "code",
   "execution_count": null,
   "metadata": {
    "tags": []
   },
   "outputs": [],
   "source": [
    "import os\n",
    "import sys\n",
    "import json\n",
    "import random\n",
    "import warnings\n",
    "import torch\n",
    "\n",
    "sys.path.append(\"../../..\")\n",
    "\n",
    "from tqdm import tqdm\n",
    "from torch import nn\n",
    "from torch.utils.data import DataLoader\n",
    "from transformers import BertTokenizerFast, BertModel, get_cosine_schedule_with_warmup, get_linear_schedule_with_warmup\n",
    "\n",
    "import local_trainer.utils as utils\n",
    "import numpy as np\n",
    "import pandas as pd\n",
    "import mlflow\n",
    "import mlflow.pytorch\n",
    "from datetime import datetime\n",
    "from local_trainer.func import get_metrics, ClassificationTrainer, HFDataset, HFModel, ManualScheduler, HFCollator, DefaultTextProcessing, DummyAugmentation\n",
    "from transformers import AutoModel, AutoTokenizer, RobertaForSequenceClassification, RobertaModel\n",
    "\n",
    "warnings.filterwarnings(\"ignore\")\n",
    "os.environ[\"TOKENIZERS_PARALLELISM\"] = \"false\"\n",
    "\n",
    "torch.backends.cuda.matmul.allow_tf32 = True\n",
    "torch.backends.cudnn.allow_tf32 = True"
   ]
  },
  {
   "cell_type": "code",
   "execution_count": 5,
   "metadata": {
    "tags": []
   },
   "outputs": [],
   "source": [
    "utils.set_seed(1337)"
   ]
  },
  {
   "cell_type": "code",
   "execution_count": null,
   "metadata": {
    "tags": []
   },
   "outputs": [
    {
     "name": "stderr",
     "output_type": "stream",
     "text": [
      "Some weights of the model checkpoint at ../../../mnt/datastore/u_m25hx/distillation_dir were not used when initializing RobertaModel: ['lm_head.decoder.weight', 'lm_head.layer_norm.bias', 'lm_head.layer_norm.weight', 'lm_head.dense.bias', 'lm_head.decoder.bias', 'lm_head.bias', 'lm_head.dense.weight']\n",
      "- This IS expected if you are initializing RobertaModel from the checkpoint of a model trained on another task or with another architecture (e.g. initializing a BertForSequenceClassification model from a BertForPreTraining model).\n",
      "- This IS NOT expected if you are initializing RobertaModel from the checkpoint of a model that you expect to be exactly identical (initializing a BertForSequenceClassification model from a BertForSequenceClassification model).\n",
      "Some weights of RobertaModel were not initialized from the model checkpoint at ../../../mnt/datastore/u_m25hx/distillation_dir and are newly initialized: ['roberta.pooler.dense.weight', 'roberta.pooler.dense.bias']\n",
      "You should probably TRAIN this model on a down-stream task to be able to use it for predictions and inference.\n"
     ]
    }
   ],
   "source": [
    "roberta = RobertaModel.from_pretrained(os.getenv('ROBERTA_PATH'), output_hidden_states=True)\n",
    "tokenizer = AutoTokenizer.from_pretrained(os.getenv('TOKENIZER_PATH'), truncation_side='left')\n",
    "\n",
    "tokenizer_args = {\n",
    "    'padding': True,\n",
    "    'truncation': True,\n",
    "    'max_length': 256,\n",
    "}"
   ]
  },
  {
   "cell_type": "code",
   "execution_count": null,
   "metadata": {
    "tags": []
   },
   "outputs": [
    {
     "data": {
      "text/plain": [
       "<Experiment: artifact_location='s3://mlflow/953', creation_time=1720979156829, experiment_id='953', last_update_time=1720979156829, lifecycle_stage='active', name='context_jaicp_model', tags={}>"
      ]
     },
     "execution_count": 4,
     "metadata": {},
     "output_type": "execute_result"
    }
   ],
   "source": [
    "experiment_name = \"context_jaicp_model\"\n",
    "current_date: str = datetime.now().strftime(\"%Y-%m-%d %k:%M\")\n",
    "\n",
    "EXPERIMENT_NAME_TEMPLATE: str = \"{model}\"\n",
    "RUN_NAME_TEMPLATE: str = \"{date}\"\n",
    "\n",
    "experiment_name: str = EXPERIMENT_NAME_TEMPLATE.format(model=experiment_name)\n",
    "run_name: str = RUN_NAME_TEMPLATE.format(date=current_date)\n",
    "\n",
    "mlflow.set_experiment(experiment_name)"
   ]
  },
  {
   "cell_type": "code",
   "execution_count": null,
   "metadata": {
    "tags": []
   },
   "outputs": [],
   "source": [
    "run_config = {\n",
    "    \"exp_name\": experiment_name,\n",
    "    \"run_name\": run_name,\n",
    "    \"device\": \"cuda:0\",\n",
    "    \"dataset\": {\n",
    "        \"inference\": False,\n",
    "        \"aug\": DummyAugmentation(),\n",
    "        \"aug_type\": \"add_symbols\",\n",
    "        \"tokenizer\": tokenizer,\n",
    "        \"tokenizer_args\": tokenizer_args,\n",
    "        \"tokenizer_output_keys\": tokenizer.model_input_names,\n",
    "        \"text_preprocessing\": DefaultTextProcessing()\n",
    "    },\n",
    "    \"dataloader\": {\n",
    "        \"batch_size\": 32,\n",
    "        \"sequence_bucketing\": True,\n",
    "        \"num_buckets\": 10,\n",
    "        \"collate_fn\": HFCollator(\n",
    "            model_input_names=tokenizer.model_input_names,\n",
    "            pad_token_id=tokenizer.pad_token_id,\n",
    "            inference=False,\n",
    "        ),\n",
    "        \"pin_memory\": True,\n",
    "        \"num_workers\": 8\n",
    "    },\n",
    "    \"metrics\": {\n",
    "        \"acc\": {\n",
    "            \"value\": \"accuracy_score\",\n",
    "            \"output_key\": \"output\",\n",
    "            \"target_key\": \"target\",\n",
    "            \"args\": {}\n",
    "        },\n",
    "        \"weighted_f0.5\": {\n",
    "            \"value\": \"fbeta_score\",\n",
    "            \"output_key\": \"output\",\n",
    "            \"target_key\": \"target\",\n",
    "            \"args\": {\n",
    "                \"average\": \"weighted\",\n",
    "                \"beta\": 0.5\n",
    "            }\n",
    "        },\n",
    "        \"f1\": {\n",
    "            \"value\": \"f1_score\",\n",
    "            \"output_key\": \"output\",\n",
    "            \"target_key\": \"target\",\n",
    "            \"args\": {\n",
    "                \"average\": \"macro\"\n",
    "            }\n",
    "        },\n",
    "    },\n",
    "    \"main_metric\": \"weighted_f0.5\",\n",
    "    \"model\": {\n",
    "        \"avg\": \"mean-attention\",\n",
    "        \"backbone\": roberta,\n",
    "        \"init_\": nn.init.xavier_uniform_,\n",
    "        \"dropout_after_backbone\": 0.5,\n",
    "        \"attn_avg\": \"default_attn_avg\",\n",
    "        'proj_pair': \"default_proj_pair\",\n",
    "        'out_layers': \"default_layers\",\n",
    "        'layer_wise_token_pooling': 4\n",
    "    },\n",
    "    \"optimizer\": {\n",
    "        \"name\": \"AdamW\"\n",
    "    }\n",
    "}"
   ]
  },
  {
   "cell_type": "code",
   "execution_count": null,
   "metadata": {
    "tags": []
   },
   "outputs": [
    {
     "name": "stdout",
     "output_type": "stream",
     "text": [
      "train info:\n",
      "\tshape: (356303, 5)\n",
      "\tnintents: 293\n",
      "valid info:\n",
      "\tshape: (62877, 5)\n",
      "\tnintents: 293\n"
     ]
    },
    {
     "name": "stderr",
     "output_type": "stream",
     "text": [
      "100%|██████████| 356303/356303 [09:10<00:00, 647.36it/s]\n"
     ]
    },
    {
     "data": {
      "application/json": {
       "ascii": false,
       "bar_format": null,
       "colour": null,
       "elapsed": 0.008987188339233398,
       "initial": 0,
       "n": 0,
       "ncols": null,
       "nrows": null,
       "postfix": null,
       "prefix": "Map",
       "rate": null,
       "total": 356303,
       "unit": " examples",
       "unit_divisor": 1000,
       "unit_scale": false
      },
      "application/vnd.jupyter.widget-view+json": {
       "model_id": "581a118bec864117950369f8d2b1525e",
       "version_major": 2,
       "version_minor": 0
      },
      "text/plain": [
       "Map:   0%|          | 0/356303 [00:00<?, ? examples/s]"
      ]
     },
     "metadata": {},
     "output_type": "display_data"
    },
    {
     "name": "stderr",
     "output_type": "stream",
     "text": [
      "100%|██████████| 62877/62877 [01:42<00:00, 613.29it/s]\n"
     ]
    },
    {
     "data": {
      "application/json": {
       "ascii": false,
       "bar_format": null,
       "colour": null,
       "elapsed": 0.006636857986450195,
       "initial": 0,
       "n": 0,
       "ncols": null,
       "nrows": null,
       "postfix": null,
       "prefix": "Map",
       "rate": null,
       "total": 62877,
       "unit": " examples",
       "unit_divisor": 1000,
       "unit_scale": false
      },
      "application/vnd.jupyter.widget-view+json": {
       "model_id": "0398f413a09842fbbf9921bcee9905c5",
       "version_major": 2,
       "version_minor": 0
      },
      "text/plain": [
       "Map:   0%|          | 0/62877 [00:00<?, ? examples/s]"
      ]
     },
     "metadata": {},
     "output_type": "display_data"
    }
   ],
   "source": [
    "dfs = utils.load_dataframes(os.getenv('DATA_PATH_DEFAULT'), parts=[\"train\", \"valid\"])\n",
    "datasets = utils.get_datasets(dfs, HFDataset, **run_config[\"dataset\"])"
   ]
  },
  {
   "cell_type": "code",
   "execution_count": 10,
   "metadata": {
    "tags": []
   },
   "outputs": [],
   "source": [
    "loaders = utils.get_loaders(datasets, **run_config[\"dataloader\"])"
   ]
  },
  {
   "cell_type": "code",
   "execution_count": 11,
   "metadata": {
    "tags": []
   },
   "outputs": [],
   "source": [
    "import math\n",
    "\n",
    "EPOCHS = 10\n",
    "accumulation_steps = 1\n",
    "grad_norm = 1.0\n",
    "\n",
    "metrics = get_metrics(run_config[\"metrics\"])\n",
    "model = HFModel(label_size=datasets[\"train\"].intents.__len__(), **run_config['model'])"
   ]
  },
  {
   "cell_type": "code",
   "execution_count": null,
   "metadata": {
    "tags": []
   },
   "outputs": [],
   "source": [
    "def roberta_base_AdamW_grouped_LLRD(model, run_config):\n",
    "        \n",
    "    opt_parameters = []\n",
    "    named_parameters = list(model.named_parameters()) \n",
    "    \n",
    "    no_decay = [\"bias\", \"LayerNorm.bias\", \"LayerNorm.weight\"]\n",
    "    set_2 = [\"layer.3\", \"layer.4\", \"layer.5\"]\n",
    "    set_3 = [\"layer.6\", \"layer.7\", \"layer.8\"]\n",
    "    set_4 = [\"layer.9\", \"layer.10\", \"layer.11\"]\n",
    "    init_lr = 3e-5\n",
    "    mu = 0.95\n",
    "    \n",
    "    for i, (name, params) in enumerate(named_parameters):  \n",
    "        \n",
    "        weight_decay = 0.0 if any(p in name for p in no_decay) else 0.01\n",
    " \n",
    "        if name.startswith(\"BACKBONE.embeddings\") or name.startswith(\"BACKBONE.encoder\"):            \n",
    "           \n",
    "            lr = init_lr * mu * mu * mu * mu       \n",
    "            \n",
    "            # For set_2\n",
    "            lr = init_lr * mu * mu * mu if any(p in name for p in set_2) else lr\n",
    "            \n",
    "            # For set_3\n",
    "            lr = init_lr * mu * mu if any(p in name for p in set_3) else lr\n",
    "            \n",
    "            # For set_4\n",
    "            lr = init_lr * mu if any(p in name for p in set_4) else lr\n",
    "            \n",
    "            \n",
    "        elif name.startswith(\"proj\") or name.startswith(\"BACKBONE.pooler\") or name.startswith(\"OUT\") or name.startswith(\"ATTN\"):               \n",
    "            lr = init_lr\n",
    "        \n",
    "        else:\n",
    "            # Check whether we proceed all the parameters nor not\n",
    "            print(name)\n",
    "            \n",
    "        opt_parameters.append({\"params\": params,\n",
    "                               \"weight_decay\": weight_decay,\n",
    "                               \"lr\": lr})    \n",
    "    return getattr(torch.optim, run_config[\"optimizer\"][\"name\"])(opt_parameters, lr=init_lr)\n",
    "\n",
    "def criterion(output, batch):\n",
    "    return nn.functional.cross_entropy(output[\"output\"], batch[\"target\"])\n",
    "\n",
    "t_total = len(loaders[\"train\"]) // accumulation_steps * EPOCHS\n",
    "warmup_ratio = 0.1\n",
    "\n",
    "optimizer = roberta_base_AdamW_grouped_LLRD(model, run_config)\n",
    "scheduler = get_cosine_schedule_with_warmup(\n",
    "    optimizer=optimizer,\n",
    "    num_warmup_steps=math.ceil(t_total * warmup_ratio),\n",
    "    num_training_steps=t_total\n",
    ")"
   ]
  },
  {
   "cell_type": "code",
   "execution_count": null,
   "metadata": {
    "tags": []
   },
   "outputs": [],
   "source": [
    "from torch.optim.swa_utils import AveragedModel\n",
    "\n",
    "device = 'cuda:0' if torch.cuda.is_available() else 'cpu'\n",
    "swa_model = AveragedModel(model).to(device)\n",
    "\n",
    "swa = {\n",
    "    \"start_swa\": 7,\n",
    "    \"model\": swa_model,\n",
    "}"
   ]
  },
  {
   "cell_type": "code",
   "execution_count": null,
   "metadata": {
    "tags": []
   },
   "outputs": [
    {
     "name": "stdout",
     "output_type": "stream",
     "text": [
      "artifact uri: s3://mlflow/953/2385ad6331db40548722322d242c3401/artifacts/context_jaicp_model\n"
     ]
    },
    {
     "name": "stderr",
     "output_type": "stream",
     "text": [
      "Train 1/10, loss 1.1353, acc 0.8092, weighted_f0.5 0.8073, f1 0.7593, lr_group_0 0.0000300: 100%|██████████| 11134/11134 [57:34<00:00,  3.22it/s] \n"
     ]
    },
    {
     "name": "stdout",
     "output_type": "stream",
     "text": [
      "Valid 1/10, loss 0.1846, acc 0.9658, weighted_f0.5 0.9649, f1 0.8298\n",
      "\n"
     ]
    },
    {
     "name": "stderr",
     "output_type": "stream",
     "text": [
      "2024/10/02 21:23:33 WARNING mlflow.utils.requirements_utils: The following packages were not found in the public PyPI package index as of 2022-10-19; if these packages are not present in the public PyPI index, you must install them manually before loading your model: {'chatbot-intents'}\n",
      "Train 2/10, loss 0.1394, acc 0.9706, weighted_f0.5 0.9710, f1 0.9448, lr_group_0 0.0000291: 100%|██████████| 11134/11134 [58:05<00:00,  3.19it/s] \n"
     ]
    },
    {
     "name": "stdout",
     "output_type": "stream",
     "text": [
      "Valid 2/10, loss 0.1168, acc 0.9783, weighted_f0.5 0.9783, f1 0.9206\n",
      "\n"
     ]
    },
    {
     "name": "stderr",
     "output_type": "stream",
     "text": [
      "2024/10/02 22:23:53 WARNING mlflow.utils.requirements_utils: The following packages were not found in the public PyPI package index as of 2022-10-19; if these packages are not present in the public PyPI index, you must install them manually before loading your model: {'chatbot-intents'}\n",
      "Train 3/10, loss 0.0854, acc 0.9816, weighted_f0.5 0.9820, f1 0.9652, lr_group_0 0.0000265: 100%|██████████| 11134/11134 [57:36<00:00,  3.22it/s] \n"
     ]
    },
    {
     "name": "stdout",
     "output_type": "stream",
     "text": [
      "Valid 3/10, loss 0.1010, acc 0.9826, weighted_f0.5 0.9826, f1 0.9330\n",
      "\n"
     ]
    },
    {
     "name": "stderr",
     "output_type": "stream",
     "text": [
      "2024/10/02 23:23:42 WARNING mlflow.utils.requirements_utils: The following packages were not found in the public PyPI package index as of 2022-10-19; if these packages are not present in the public PyPI index, you must install them manually before loading your model: {'chatbot-intents'}\n",
      "Train 4/10, loss 0.0577, acc 0.9872, weighted_f0.5 0.9876, f1 0.9758, lr_group_0 0.0000241:  64%|██████▍   | 7149/11134 [38:22<21:18,  3.12it/s]  IOPub message rate exceeded.\n",
      "The Jupyter server will temporarily stop sending output\n",
      "to the client in order to avoid crashing it.\n",
      "To change this limit, set the config variable\n",
      "`--ServerApp.iopub_msg_rate_limit`.\n",
      "\n",
      "Current values:\n",
      "ServerApp.iopub_msg_rate_limit=1000.0 (msgs/sec)\n",
      "ServerApp.rate_limit_window=3.0 (secs)\n",
      "\n",
      "Train 5/10, loss 0.0432, acc 0.9904, weighted_f0.5 0.9907, f1 0.9817, lr_group_0 0.0000179:  95%|█████████▍| 10544/11134 [53:54<03:12,  3.06it/s]IOPub message rate exceeded.\n",
      "The Jupyter server will temporarily stop sending output\n",
      "to the client in order to avoid crashing it.\n",
      "To change this limit, set the config variable\n",
      "`--ServerApp.iopub_msg_rate_limit`.\n",
      "\n",
      "Current values:\n",
      "ServerApp.iopub_msg_rate_limit=1000.0 (msgs/sec)\n",
      "ServerApp.rate_limit_window=3.0 (secs)\n",
      "\n",
      "Train 7/10, loss 0.0193, acc 0.9959, weighted_f0.5 0.9961, f1 0.9921, lr_group_0 0.0000124:  23%|██▎       | 2554/11134 [14:45<49:26,  2.89it/s]  IOPub message rate exceeded.\n",
      "The Jupyter server will temporarily stop sending output\n",
      "to the client in order to avoid crashing it.\n",
      "To change this limit, set the config variable\n",
      "`--ServerApp.iopub_msg_rate_limit`.\n",
      "\n",
      "Current values:\n",
      "ServerApp.iopub_msg_rate_limit=1000.0 (msgs/sec)\n",
      "ServerApp.rate_limit_window=3.0 (secs)\n",
      "\n",
      "Train 9/10, loss 0.0179, acc 0.9960, weighted_f0.5 0.9961, f1 0.9923, lr_group_0 0.0000124: 100%|██████████| 11134/11134 [1:02:08<00:00,  2.99it/s]\n"
     ]
    },
    {
     "name": "stdout",
     "output_type": "stream",
     "text": [
      "Valid 9/10, loss 0.1007, acc 0.9867, weighted_f0.5 0.9867, f1 0.9685\n",
      "\n"
     ]
    },
    {
     "name": "stderr",
     "output_type": "stream",
     "text": [
      "Train 10/10, loss 0.0149, acc 0.9968, weighted_f0.5 0.9969, f1 0.9938, lr_group_0 0.0000124:  70%|███████   | 7815/11134 [45:58<24:55,  2.22it/s]  IOPub message rate exceeded.\n",
      "The Jupyter server will temporarily stop sending output\n",
      "to the client in order to avoid crashing it.\n",
      "To change this limit, set the config variable\n",
      "`--ServerApp.iopub_msg_rate_limit`.\n",
      "\n",
      "Current values:\n",
      "ServerApp.iopub_msg_rate_limit=1000.0 (msgs/sec)\n",
      "ServerApp.rate_limit_window=3.0 (secs)\n",
      "\n"
     ]
    }
   ],
   "source": [
    "with mlflow.start_run(run_name=run_config[\"run_name\"]):\n",
    "    \n",
    "    artifact_uri = mlflow.get_artifact_uri(run_config[\"exp_name\"])\n",
    "    print(f\"artifact uri: {artifact_uri}\")\n",
    "    \n",
    "    mlflow.log_param(\n",
    "        'Epochs', EPOCHS\n",
    "    )\n",
    "    mlflow.log_param(\n",
    "        'BatchSize', run_config['dataloader']['batch_size']\n",
    "    )\n",
    "    mlflow.log_param(\n",
    "        'Sheduler', 'linear'\n",
    "    )\n",
    "    mlflow.log_param(\n",
    "        'Avg', run_config['model']['avg']\n",
    "    )\n",
    "    \n",
    "    \n",
    "    trainer = ClassificationTrainer(\n",
    "        exp_name=run_config[\"exp_name\"],\n",
    "        dataloaders=loaders,\n",
    "        keys_to_device=datasets[\"train\"].keys_to_device,\n",
    "        target_keys=datasets[\"train\"].target_keys,\n",
    "        model=model,\n",
    "        criterion=criterion,\n",
    "        metrics=metrics, \n",
    "        main_metric=run_config[\"main_metric\"],\n",
    "        optimizer=optimizer,\n",
    "        scheduler=scheduler,\n",
    "        scheduler_style=\"step\",\n",
    "        swa=swa,\n",
    "        accumulation_steps=accumulation_steps,\n",
    "        grad_norm=grad_norm,\n",
    "        logging_step=5,\n",
    "        device=run_config[\"device\"],\n",
    "        logging=\"mlflow\",\n",
    "        save_on_device=False\n",
    "    )\n",
    "    \n",
    "    trainer.train(EPOCHS)"
   ]
  },
  {
   "cell_type": "code",
   "execution_count": null,
   "metadata": {
    "tags": []
   },
   "outputs": [],
   "source": [
    "torch.optim.swa_utils.update_bn(loaders['train'], swa_model)"
   ]
  }
 ],
 "metadata": {
  "kernelspec": {
   "display_name": "main_env",
   "language": "python",
   "name": "main_env"
  },
  "language_info": {
   "codemirror_mode": {
    "name": "ipython",
    "version": 3
   },
   "file_extension": ".py",
   "mimetype": "text/x-python",
   "name": "python",
   "nbconvert_exporter": "python",
   "pygments_lexer": "ipython3",
   "version": "3.7.12"
  },
  "toc-autonumbering": true
 },
 "nbformat": 4,
 "nbformat_minor": 4
}
